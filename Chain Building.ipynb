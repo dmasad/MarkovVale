{
 "metadata": {
  "name": ""
 },
 "nbformat": 3,
 "nbformat_minor": 0,
 "worksheets": [
  {
   "cells": [
    {
     "cell_type": "markdown",
     "metadata": {},
     "source": [
      "## Build a Markov Chain from Welcome to Night Vale transcripts"
     ]
    },
    {
     "cell_type": "code",
     "collapsed": false,
     "input": [
      "import string\n",
      "import re\n",
      "import random\n",
      "from collections import defaultdict\n",
      "\n",
      "import json"
     ],
     "language": "python",
     "metadata": {},
     "outputs": [],
     "prompt_number": 1
    },
    {
     "cell_type": "code",
     "collapsed": false,
     "input": [
      "ALPHANUM = string.letters + string.digits + \"$%\""
     ],
     "language": "python",
     "metadata": {},
     "outputs": [],
     "prompt_number": 29
    },
    {
     "cell_type": "code",
     "collapsed": false,
     "input": [
      "def clean_text(text):\n",
      "    '''\n",
      "    Prepare text for Markov chaining.\n",
      "    \n",
      "    Turn special characters into their own words.\n",
      "    \n",
      "    '''\n",
      "    text = text.replace(\"...\", \" \")\n",
      "    all_words = []\n",
      "    words = text.split()\n",
      "    for word in words:\n",
      "        if len(word) == 0: continue\n",
      "        tail_words = [] # These will go backwards\n",
      "        while word[0] not in ALPHANUM:\n",
      "            all_words.append(word[0])\n",
      "            word = word[1:]\n",
      "        while word[-1] not in ALPHANUM:\n",
      "            tail_words.append(word[-1])\n",
      "            word = word[:-1]\n",
      "        all_words.append(word)\n",
      "        if tail_words:\n",
      "            tail_words.reverse()\n",
      "            all_words += tail_words\n",
      "    return all_words"
     ],
     "language": "python",
     "metadata": {},
     "outputs": [],
     "prompt_number": 58
    },
    {
     "cell_type": "code",
     "collapsed": false,
     "input": [
      "episodes = []\n",
      "for i in range(1,11):\n",
      "    episodes.append(open(\"Transcripts/\" + str(i) + \".txt\").read())\n",
      "\n",
      "words = []\n",
      "for ep in episodes:\n",
      "    words += clean_text(ep)"
     ],
     "language": "python",
     "metadata": {},
     "outputs": [],
     "prompt_number": 85
    },
    {
     "cell_type": "code",
     "collapsed": false,
     "input": [
      "def build_markov_chain(word_list, n):\n",
      "    '''\n",
      "    Build a Markov Chain, in dictionary format.\n",
      "    \n",
      "    Args:\n",
      "        word_list: A list of words to build the chain out of.\n",
      "        n: Number of words to look back / key on.\n",
      "    '''\n",
      "    markov = defaultdict(lambda: defaultdict(int))\n",
      "    for i in range(len(word_list)-n):\n",
      "        key = tuple(word_list[i:i+n])\n",
      "        val = word_list[i+n]\n",
      "        markov[key][val] += 1\n",
      "    \n",
      "    # Convert from defaultdict to standard dict\n",
      "    chain = {}\n",
      "    for key, val in markov.iteritems():\n",
      "        chain[key] = dict(val)\n",
      "    return chain"
     ],
     "language": "python",
     "metadata": {},
     "outputs": [],
     "prompt_number": 86
    },
    {
     "cell_type": "code",
     "collapsed": false,
     "input": [
      "chain = build_markov_chain(words, 2)"
     ],
     "language": "python",
     "metadata": {},
     "outputs": [],
     "prompt_number": 87
    },
    {
     "cell_type": "code",
     "collapsed": false,
     "input": [
      "# Test the markov chain text generation\n",
      "text = []\n",
      "start = random.choice(chain.keys())\n",
      "for word in start:\n",
      "    text.append(word)\n",
      "\n",
      "while len(text) < 20 or text[-1] not in [\".\", \"?\", \"!\"]:\n",
      "    current_words = tuple(text[-2:])\n",
      "    if current_words in chain:\n",
      "        next_word = random.choice(chain[current_words].keys())\n",
      "        text.append(next_word)\n",
      "\n",
      "txt = \"\"\n",
      "for word in text:\n",
      "    txt += word + \" \"\n",
      "print txt"
     ],
     "language": "python",
     "metadata": {},
     "outputs": [
      {
       "output_type": "stream",
       "stream": "stdout",
       "text": [
        "of elements of our only remaining pleasure ? Well , Telly was seen getting his beautiful , and even Michael's mother has issued a statement saying : \" EVERYTHING YOU DO MATTERS EXCEPT YOUR LIFE . \n"
       ]
      }
     ],
     "prompt_number": 89
    },
    {
     "cell_type": "code",
     "collapsed": false,
     "input": [
      "# Export to JSON\n",
      "# Use a | to separate words\n",
      "json_chain = {}\n",
      "for key, val in chain.iteritems():\n",
      "    json_chain[key[0] + \"|\" + key[1]] = val\n",
      "with open(\"Chain.json\", \"wb\") as f:\n",
      "    json.dump(json_chain, f, )"
     ],
     "language": "python",
     "metadata": {},
     "outputs": [],
     "prompt_number": 90
    },
    {
     "cell_type": "code",
     "collapsed": false,
     "input": [],
     "language": "python",
     "metadata": {},
     "outputs": []
    }
   ],
   "metadata": {}
  }
 ]
}